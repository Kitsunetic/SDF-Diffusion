{
 "cells": [
  {
   "cell_type": "code",
   "execution_count": null,
   "id": "e83815b2-5e5a-4a0e-ad9f-7b2f0b09788b",
   "metadata": {
    "tags": []
   },
   "outputs": [],
   "source": [
    "%cd .."
   ]
  },
  {
   "cell_type": "code",
   "execution_count": 2,
   "id": "efb89b5d-ac8f-49a1-80ed-3be17153192a",
   "metadata": {
    "tags": []
   },
   "outputs": [],
   "source": [
    "from pathlib import Path\n",
    "\n",
    "import torch as th\n",
    "import torch.nn.functional as F\n",
    "import numpy as np\n",
    "import yaml\n",
    "from easydict import EasyDict\n",
    "\n",
    "from src.utils import instantiate_from_config\n",
    "from src.utils.vis import save_sdf_as_mesh"
   ]
  },
  {
   "cell_type": "code",
   "execution_count": 3,
   "id": "690ae8df-0703-4eed-94e8-0c75126d7118",
   "metadata": {
    "tags": []
   },
   "outputs": [],
   "source": [
    "th.set_grad_enabled(False)\n",
    "th.cuda.set_device(4)"
   ]
  },
  {
   "cell_type": "markdown",
   "id": "de3ab22a-d774-490f-980a-6e310bae128c",
   "metadata": {},
   "source": [
    "# Load Pretrained Models"
   ]
  },
  {
   "cell_type": "code",
   "execution_count": 4,
   "id": "ce1928db-db77-4b88-b36f-8613a810399e",
   "metadata": {
    "tags": []
   },
   "outputs": [],
   "source": [
    "gen32_args_path = \"config/gen32/shapenet.yaml\"\n",
    "gen32_ckpt_path = \"results/gen32/shapenet.pth\"\n",
    "sr64_args_path = \"config/sr32_64/shapenet.yaml\"\n",
    "sr64_ckpt_path = \"results/sr32_64/shapenet.pth\""
   ]
  },
  {
   "cell_type": "code",
   "execution_count": 5,
   "id": "0dcebfec-8f2b-42ae-9a55-e8517bee8cae",
   "metadata": {
    "tags": []
   },
   "outputs": [],
   "source": [
    "with open(gen32_args_path) as f:\n",
    "    args1 = EasyDict(yaml.safe_load(f))\n",
    "with open(sr64_args_path) as f:\n",
    "    args2 = EasyDict(yaml.safe_load(f))"
   ]
  },
  {
   "cell_type": "code",
   "execution_count": 6,
   "id": "ae75f0c2-b8fe-4d80-8797-894a6d077f81",
   "metadata": {
    "tags": []
   },
   "outputs": [
    {
     "data": {
      "text/plain": [
       "<All keys matched successfully>"
      ]
     },
     "execution_count": 6,
     "metadata": {},
     "output_type": "execute_result"
    }
   ],
   "source": [
    "model1 = instantiate_from_config(args1.model).cuda()\n",
    "ckpt = th.load(gen32_ckpt_path, map_location=\"cpu\")\n",
    "model1.load_state_dict(ckpt[\"model_ema\"])"
   ]
  },
  {
   "cell_type": "code",
   "execution_count": 7,
   "id": "6d4f4dbd-6fca-409e-bbef-e85f7a066b74",
   "metadata": {
    "tags": []
   },
   "outputs": [
    {
     "data": {
      "text/plain": [
       "<All keys matched successfully>"
      ]
     },
     "execution_count": 7,
     "metadata": {},
     "output_type": "execute_result"
    }
   ],
   "source": [
    "model2 = instantiate_from_config(args2.model).cuda()\n",
    "ckpt = th.load(sr64_ckpt_path, map_location=\"cpu\")\n",
    "model2.load_state_dict(ckpt[\"model\"])"
   ]
  },
  {
   "cell_type": "code",
   "execution_count": 8,
   "id": "00efd984-8e93-4041-84cf-d70b3cd64bf7",
   "metadata": {
    "tags": []
   },
   "outputs": [],
   "source": [
    "ddpm_sampler1 = instantiate_from_config(args1.ddpm.valid).cuda()\n",
    "ddpm_sampler2 = instantiate_from_config(args2.ddpm.valid).cuda()"
   ]
  },
  {
   "cell_type": "code",
   "execution_count": 9,
   "id": "ac4e87cc-6e85-4cc7-b41e-beac554f1d5d",
   "metadata": {
    "tags": []
   },
   "outputs": [],
   "source": [
    "preprocessor1 = instantiate_from_config(args1.preprocessor, \"cuda\")\n",
    "preprocessor2 = instantiate_from_config(args2.preprocessor, \"cuda\")"
   ]
  },
  {
   "cell_type": "markdown",
   "id": "03c31d13-c9b5-42b3-bf7e-6819aee68b44",
   "metadata": {},
   "source": [
    "# Generate Low-Resolution ($32^3$)"
   ]
  },
  {
   "cell_type": "code",
   "execution_count": 10,
   "id": "b4b3c5d3-1505-4535-9fc6-d7fa611a08e3",
   "metadata": {
    "tags": []
   },
   "outputs": [],
   "source": [
    "c = th.randint(0, 13, (1,), dtype=th.int64, device=\"cuda\")"
   ]
  },
  {
   "cell_type": "code",
   "execution_count": 12,
   "id": "06e759bd-f309-48e5-8c1e-e7b8fb0dfa2d",
   "metadata": {
    "tags": []
   },
   "outputs": [
    {
     "name": "stderr",
     "output_type": "stream",
     "text": [
      "Sample DDIM: 100%|██████████████████████████████████████████████████████████████████████████████| 50/50 [00:04<00:00, 11.41it/s]\n"
     ]
    }
   ],
   "source": [
    "out1 = ddpm_sampler1.sample_ddim(lambda x, t: model1(x, t, c=c), (1, 1, 32, 32, 32), show_pbar=True)"
   ]
  },
  {
   "cell_type": "code",
   "execution_count": 13,
   "id": "91fceb1e-d513-40b5-8954-e766fb82808a",
   "metadata": {
    "tags": []
   },
   "outputs": [
    {
     "data": {
      "text/plain": [
       "torch.Size([1, 1, 32, 32, 32])"
      ]
     },
     "execution_count": 13,
     "metadata": {},
     "output_type": "execute_result"
    }
   ],
   "source": [
    "out1 = preprocessor1.destandardize(out1)\n",
    "out1.shape"
   ]
  },
  {
   "cell_type": "code",
   "execution_count": 14,
   "id": "997dc3e6-1c88-4245-9bfb-909d8247c016",
   "metadata": {
    "tags": []
   },
   "outputs": [],
   "source": [
    "# save as an obj file\n",
    "save_sdf_as_mesh(\"gen32.obj\", out1, safe=True)"
   ]
  },
  {
   "cell_type": "markdown",
   "id": "8e6cd8bf-2c9e-46bd-8d58-e425f0748efe",
   "metadata": {},
   "source": [
    "# Super-Resolve to High-Resolution ($64^3$)"
   ]
  },
  {
   "cell_type": "code",
   "execution_count": 15,
   "id": "7c46006f-2c98-4088-be76-9c3ffecb15a0",
   "metadata": {
    "tags": []
   },
   "outputs": [
    {
     "name": "stderr",
     "output_type": "stream",
     "text": [
      "Sample DDIM: 100%|██████████████████████████████████████████████████████████████████████████████| 50/50 [00:09<00:00,  5.46it/s]\n"
     ]
    }
   ],
   "source": [
    "lr_cond = F.interpolate(out1, (64, 64, 64), mode=\"nearest\")\n",
    "lr_cond = preprocessor2.standardize(lr_cond, 0)\n",
    "out2 = ddpm_sampler2.sample_ddim(lambda x, t: model2(th.cat([lr_cond, x], 1), t, c=c), (1, 1, 64, 64, 64), show_pbar=True)"
   ]
  },
  {
   "cell_type": "code",
   "execution_count": 16,
   "id": "d0ac86c4-a387-41fe-94ca-e7c49862e489",
   "metadata": {
    "tags": []
   },
   "outputs": [
    {
     "data": {
      "text/plain": [
       "torch.Size([1, 1, 64, 64, 64])"
      ]
     },
     "execution_count": 16,
     "metadata": {},
     "output_type": "execute_result"
    }
   ],
   "source": [
    "out2 = preprocessor2.destandardize(out2, 1)\n",
    "out2.shape"
   ]
  },
  {
   "cell_type": "code",
   "execution_count": 17,
   "id": "bc5a6187-1796-4a1c-9980-b25a3355c237",
   "metadata": {
    "tags": []
   },
   "outputs": [],
   "source": [
    "# save as an obj file\n",
    "save_sdf_as_mesh(\"sr64.obj\", out2, safe=True)"
   ]
  },
  {
   "cell_type": "code",
   "execution_count": null,
   "id": "0a59fa99-6909-454a-9e19-4466dfb51cfa",
   "metadata": {},
   "outputs": [],
   "source": []
  }
 ],
 "metadata": {
  "kernelspec": {
   "display_name": "Python 3 (ipykernel)",
   "language": "python",
   "name": "python3"
  },
  "language_info": {
   "codemirror_mode": {
    "name": "ipython",
    "version": 3
   },
   "file_extension": ".py",
   "mimetype": "text/x-python",
   "name": "python",
   "nbconvert_exporter": "python",
   "pygments_lexer": "ipython3",
   "version": "3.9.18"
  }
 },
 "nbformat": 4,
 "nbformat_minor": 5
}
