{
 "cells": [
  {
   "cell_type": "code",
   "execution_count": 1,
   "id": "e83815b2-5e5a-4a0e-ad9f-7b2f0b09788b",
   "metadata": {
    "tags": []
   },
   "outputs": [
    {
     "name": "stdout",
     "output_type": "stream",
     "text": [
      "/root/dev/ddpm/SDF-Diffusion\n"
     ]
    }
   ],
   "source": [
    "%load_ext lab_black\n",
    "%cd .."
   ]
  },
  {
   "cell_type": "code",
   "execution_count": 51,
   "id": "efb89b5d-ac8f-49a1-80ed-3be17153192a",
   "metadata": {
    "tags": []
   },
   "outputs": [],
   "source": [
    "from pathlib import Path\n",
    "\n",
    "import torch as th\n",
    "import numpy as np\n",
    "import yaml\n",
    "from easydict import EasyDict\n",
    "\n",
    "from src.utils import instantiate_from_config\n",
    "from src.utils.vis import save_sdf_as_mesh"
   ]
  },
  {
   "cell_type": "code",
   "execution_count": 12,
   "id": "690ae8df-0703-4eed-94e8-0c75126d7118",
   "metadata": {
    "tags": []
   },
   "outputs": [],
   "source": [
    "th.set_grad_enabled(False)\n",
    "th.cuda.set_device(4)"
   ]
  },
  {
   "cell_type": "markdown",
   "id": "de3ab22a-d774-490f-980a-6e310bae128c",
   "metadata": {},
   "source": [
    "# Load Pretrained Models"
   ]
  },
  {
   "cell_type": "code",
   "execution_count": 30,
   "id": "ce1928db-db77-4b88-b36f-8613a810399e",
   "metadata": {
    "tags": []
   },
   "outputs": [],
   "source": [
    "args_path = \"config/gen32/shapenet_airplane.yaml\"\n",
    "ckpt_path = \"results/gen32/airplane.pth\""
   ]
  },
  {
   "cell_type": "code",
   "execution_count": 31,
   "id": "0dcebfec-8f2b-42ae-9a55-e8517bee8cae",
   "metadata": {
    "tags": []
   },
   "outputs": [],
   "source": [
    "with open(args_path) as f:\n",
    "    args = EasyDict(yaml.safe_load(f))"
   ]
  },
  {
   "cell_type": "code",
   "execution_count": 32,
   "id": "ae75f0c2-b8fe-4d80-8797-894a6d077f81",
   "metadata": {
    "tags": []
   },
   "outputs": [],
   "source": [
    "model = instantiate_from_config(args.model).cuda()\n",
    "ckpt = th.load(ckpt_path, map_location=\"cpu\")\n",
    "model.load_state_dict(ckpt[\"model_ema\"])"
   ]
  },
  {
   "cell_type": "code",
   "execution_count": 42,
   "id": "00efd984-8e93-4041-84cf-d70b3cd64bf7",
   "metadata": {
    "tags": []
   },
   "outputs": [],
   "source": [
    "ddpm_sampler = instantiate_from_config(args.ddpm.valid).cuda()"
   ]
  },
  {
   "cell_type": "code",
   "execution_count": 47,
   "id": "ac4e87cc-6e85-4cc7-b41e-beac554f1d5d",
   "metadata": {
    "tags": []
   },
   "outputs": [],
   "source": [
    "preprocessor = instantiate_from_config(args.preprocessor, \"cuda\")"
   ]
  },
  {
   "cell_type": "markdown",
   "id": "03c31d13-c9b5-42b3-bf7e-6819aee68b44",
   "metadata": {},
   "source": [
    "# Generate New Data"
   ]
  },
  {
   "cell_type": "code",
   "execution_count": 43,
   "id": "06e759bd-f309-48e5-8c1e-e7b8fb0dfa2d",
   "metadata": {
    "tags": []
   },
   "outputs": [
    {
     "name": "stderr",
     "output_type": "stream",
     "text": [
      "Sample DDIM: 100%|██████████████████████████████████████████████████████████████████████████████| 50/50 [00:04<00:00, 11.88it/s]\n"
     ]
    }
   ],
   "source": [
    "out = ddpm_sampler.sample_ddim(model, (1, 1, 32, 32, 32), show_pbar=True)"
   ]
  },
  {
   "cell_type": "code",
   "execution_count": 50,
   "id": "91fceb1e-d513-40b5-8954-e766fb82808a",
   "metadata": {
    "tags": []
   },
   "outputs": [],
   "source": [
    "out = preprocessor.destandardize(out)"
   ]
  },
  {
   "cell_type": "markdown",
   "id": "29de3b77-9cf4-4984-b4e9-54a32612fb43",
   "metadata": {},
   "source": [
    "## Save as an OBJ file"
   ]
  },
  {
   "cell_type": "code",
   "execution_count": 52,
   "id": "997dc3e6-1c88-4245-9bfb-909d8247c016",
   "metadata": {
    "tags": []
   },
   "outputs": [],
   "source": [
    "save_sdf_as_mesh(\"test.obj\", out, safe=True)"
   ]
  },
  {
   "cell_type": "markdown",
   "id": "c4359447-2502-46ae-a844-f4a33e929c43",
   "metadata": {},
   "source": [
    "TODO: add upsampling here"
   ]
  },
  {
   "cell_type": "code",
   "execution_count": null,
   "id": "d0fd21f6-77f5-4eaf-854b-08757ede31a5",
   "metadata": {},
   "outputs": [],
   "source": []
  }
 ],
 "metadata": {
  "kernelspec": {
   "display_name": "Python 3 (ipykernel)",
   "language": "python",
   "name": "python3"
  },
  "language_info": {
   "codemirror_mode": {
    "name": "ipython",
    "version": 3
   },
   "file_extension": ".py",
   "mimetype": "text/x-python",
   "name": "python",
   "nbconvert_exporter": "python",
   "pygments_lexer": "ipython3",
   "version": "3.9.18"
  }
 },
 "nbformat": 4,
 "nbformat_minor": 5
}
